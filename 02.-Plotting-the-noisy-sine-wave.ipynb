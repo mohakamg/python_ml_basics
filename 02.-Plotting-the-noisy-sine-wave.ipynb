{
 "cells": [
  {
   "cell_type": "markdown",
   "metadata": {},
   "source": [
    "## 1. Create sine wave"
   ]
  },
  {
   "cell_type": "code",
   "execution_count": 1,
   "metadata": {},
   "outputs": [],
   "source": [
    "import numpy as np\n",
    "import matplotlib.pyplot as plt"
   ]
  },
  {
   "cell_type": "markdown",
   "metadata": {},
   "source": [
    " ## 2. lambda expression (Anonymous function)\n",
    " In Matlab: y=@(x,noise)=sin(x)+noise"
   ]
  },
  {
   "cell_type": "code",
   "execution_count": 2,
   "metadata": {},
   "outputs": [],
   "source": [
    "y = lambda x, noise: np.sin(x) + noise"
   ]
  },
  {
   "cell_type": "markdown",
   "metadata": {},
   "source": [
    "## 3. generating the sine noisy wave\n",
    "Here we face our first problem with the dimensions of x. x is created with\n",
    "\n",
    "    x=np.linspace(-2*np.pi,2*np.pi,N)\n",
    "\n",
    "Its x.shape = (100,), which means it's a 100 elements array. \n",
    "The noise added to the sine wave evaluated is created with:\n",
    "\n",
    "    noise = 0.1*np.random.randn(N,1)\n",
    "\n",
    "and its dimensions are (100,1), which is a column vector of 100 rows. You'd think that (100,) and (100,1) would play nicely in the evaluation of the lambda function, but they don't: the resulting y_eval is (100,100)!"
   ]
  },
  {
   "cell_type": "code",
   "execution_count": 3,
   "metadata": {},
   "outputs": [
    {
     "name": "stdout",
     "output_type": "stream",
     "text": [
      "(100,)\n",
      "(100, 1)\n"
     ]
    },
    {
     "data": {
      "text/plain": [
       "(100, 100)"
      ]
     },
     "execution_count": 3,
     "metadata": {},
     "output_type": "execute_result"
    }
   ],
   "source": [
    "N = 100\n",
    "x=np.linspace(-2*np.pi,2*np.pi,N)\n",
    "print(x.shape)\n",
    "noise = 0.1*np.random.randn(N,1)\n",
    "print(noise.shape)\n",
    "y_eval = y(x,noise)\n",
    "y_eval.shape"
   ]
  },
  {
   "cell_type": "markdown",
   "metadata": {},
   "source": [
    "## 4. Fixing the noisy sine wave 1\n",
    "this method fixes the dimension problem, by creating noise as a simple numpy array Further down, we explore other methods - one that looks as if it should fix the problem, but it doesn't."
   ]
  },
  {
   "cell_type": "code",
   "execution_count": 16,
   "metadata": {},
   "outputs": [
    {
     "name": "stdout",
     "output_type": "stream",
     "text": [
      "(100,)\n"
     ]
    },
    {
     "data": {
      "text/plain": [
       "<matplotlib.collections.PathCollection at 0x1edba488390>"
      ]
     },
     "execution_count": 16,
     "metadata": {},
     "output_type": "execute_result"
    },
    {
     "data": {
      "image/png": "[encoded data removed]",
      "text/plain": [
       "<Figure size 432x288 with 1 Axes>"
      ]
     },
     "metadata": {
      "needs_background": "light"
     },
     "output_type": "display_data"
    }
   ],
   "source": [
    "noise = 0.1*np.random.randn(N,)\n",
    "y_eval = y(x,noise)\n",
    "print(y_eval.shape)\n",
    "plt.scatter(x, y_eval)"
   ]
  },
  {
   "cell_type": "markdown",
   "metadata": {},
   "source": [
    "## 4. Fixing the noisy sine wave 2\n",
    "This method doesn't work. \n",
    "Despite using the reshape funcion on x:\n",
    "\n",
    "    x.reshape((N,1))\n",
    "\n",
    "in an attempt to force a 1 column to become part of the dimensions of x, the x.shape is still (100,) and the evaluation of the lambda function y returns (100,100) - which doesn't make sense, since noise is (100,1) & the sin wave (100,)"
   ]
  },
  {
   "cell_type": "code",
   "execution_count": 5,
   "metadata": {},
   "outputs": [
    {
     "name": "stdout",
     "output_type": "stream",
     "text": [
      "(100,)\n"
     ]
    },
    {
     "data": {
      "text/plain": [
       "(100, 100)"
      ]
     },
     "execution_count": 5,
     "metadata": {},
     "output_type": "execute_result"
    }
   ],
   "source": [
    "noise = 0.1*np.random.randn(N,1)\n",
    "x.reshape((N,1))\n",
    "print(x.shape)\n",
    "y_eval = y(x,noise)\n",
    "y_eval.shape"
   ]
  },
  {
   "cell_type": "markdown",
   "metadata": {},
   "source": [
    "## 4. Fixing the noisy sine wave 3\n",
    "This fixes the x.shape problem by adding a new dimension to x. After this line\n",
    "\n",
    "    x1 = np.expand_dims(x,axis=1)\n",
    "\n",
    "x is a column vector (before it was a simple numpy array), and the evaluation of the lambda function works perfectly."
   ]
  },
  {
   "cell_type": "code",
   "execution_count": 15,
   "metadata": {},
   "outputs": [
    {
     "name": "stdout",
     "output_type": "stream",
     "text": [
      "(100, 1)\n",
      "(100, 1)\n"
     ]
    },
    {
     "data": {
      "text/plain": [
       "(100, 1)"
      ]
     },
     "execution_count": 15,
     "metadata": {},
     "output_type": "execute_result"
    }
   ],
   "source": [
    "x1 = np.expand_dims(x,axis=1)\n",
    "noise = 0.1*np.random.randn(N,1)\n",
    "print(x1.shape)\n",
    "print(noise.shape)\n",
    "y_eval = y(x1,noise)\n",
    "y_eval.shape"
   ]
  },
  {
   "cell_type": "markdown",
   "metadata": {},
   "source": [
    "## 5. Plotting\n",
    "Just an example of syntax for plotting with legends"
   ]
  },
  {
   "cell_type": "code",
   "execution_count": 7,
   "metadata": {},
   "outputs": [
    {
     "data": {
      "text/plain": [
       "<matplotlib.legend.Legend at 0x1edba244a90>"
      ]
     },
     "execution_count": 7,
     "metadata": {},
     "output_type": "execute_result"
    },
    {
     "data": {
      "image/png": "[encoded data removed]",
      "text/plain": [
       "<Figure size 432x288 with 1 Axes>"
      ]
     },
     "metadata": {
      "needs_background": "light"
     },
     "output_type": "display_data"
    }
   ],
   "source": [
    "plt.scatter(x, y_eval)\n",
    "plt.legend(['sine wave'])\n",
    "plt.plot(x,y_eval, color='r')\n",
    "plt.xlabel('sine wave')\n",
    "plt.title('sine wave')\n",
    "plt.legend([\"sin line\", \"sin scatter\"])"
   ]
  },
  {
   "cell_type": "code",
   "execution_count": null,
   "metadata": {},
   "outputs": [],
   "source": []
  }
 ],
 "metadata": {
  "kernelspec": {
   "display_name": "Python 3",
   "language": "python",
   "name": "python3"
  },
  "language_info": {
   "codemirror_mode": {
    "name": "ipython",
    "version": 3
   },
   "file_extension": ".py",
   "mimetype": "text/x-python",
   "name": "python",
   "nbconvert_exporter": "python",
   "pygments_lexer": "ipython3",
   "version": "3.6.8"
  }
 },
 "nbformat": 4,
 "nbformat_minor": 2
}
