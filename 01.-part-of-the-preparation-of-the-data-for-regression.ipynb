{
 "cells": [
  {
   "cell_type": "code",
   "execution_count": 1,
   "metadata": {},
   "outputs": [],
   "source": [
    "import numpy as np\n",
    "from numpy import zeros, ones, eye\n",
    "# from numpy.random import randn, rand\n",
    "import matplotlib.pyplot as plt\n",
    "import pandas as pd "
   ]
  },
  {
   "cell_type": "markdown",
   "metadata": {},
   "source": [
    "## 1. reading file with pandas and preparing the data"
   ]
  },
  {
   "cell_type": "code",
   "execution_count": 2,
   "metadata": {},
   "outputs": [
    {
     "data": {
      "text/plain": [
       "pandas.core.series.Series"
      ]
     },
     "execution_count": 2,
     "metadata": {},
     "output_type": "execute_result"
    }
   ],
   "source": [
    "dataset = pd.read_excel('proj1Dataset.xlsx')\n",
    "weight = dataset['Weight'] #selecting the column you want form \n",
    "type(weight)\n",
    "# pandas Series reference\n",
    "#https://pandas.pydata.org/pandas-docs/version/0.23.4/generated/pandas.Series.html\n",
    "# pandas dataFrame reference\n",
    "# https://pandas.pydata.org/pandas-docs/version/0.23/generated/pandas.DataFrame.htm"
   ]
  },
  {
   "cell_type": "markdown",
   "metadata": {},
   "source": [
    "## 2. getting the data from the series"
   ]
  },
  {
   "cell_type": "code",
   "execution_count": 3,
   "metadata": {},
   "outputs": [
    {
     "data": {
      "text/plain": [
       "(406,)"
      ]
     },
     "execution_count": 3,
     "metadata": {},
     "output_type": "execute_result"
    }
   ],
   "source": [
    "X = weight.values #gets numpy array from pandas series\n",
    "X.shape"
   ]
  },
  {
   "cell_type": "markdown",
   "metadata": {},
   "source": [
    "## 3. cleaning the data"
   ]
  },
  {
   "cell_type": "code",
   "execution_count": 4,
   "metadata": {},
   "outputs": [],
   "source": [
    "i = np.where( np.isfinite(X) == False)\n",
    "if (len(i[0])-1) > 0:\n",
    "    X[i[0]] = 0\n",
    "    X[i[0]] = np.mean(X[0])\n",
    "\n",
    "# X[i[0]] = np.mean(np.array([X[i[0]-1], X[i[0]+1] ] ) )"
   ]
  },
  {
   "cell_type": "markdown",
   "metadata": {},
   "source": [
    "## 4. Repeat for horsepower"
   ]
  },
  {
   "cell_type": "code",
   "execution_count": 5,
   "metadata": {},
   "outputs": [],
   "source": [
    "HP = dataset['Horsepower'].values\n",
    "j = np.where( np.isfinite(HP) == False)\n",
    "if (len(j[0])-1) > 0:\n",
    "    HP[j[0]] = 0\n",
    "    HP[j[0]] = np.mean(np.array([HP[j[0]-1], HP[j[0]+1] ] ) )\n",
    "#     HP[j[0]] = np.mean(HP)"
   ]
  },
  {
   "cell_type": "markdown",
   "metadata": {},
   "source": [
    "## 5. Append a Column of Ones to X"
   ]
  },
  {
   "cell_type": "code",
   "execution_count": 9,
   "metadata": {},
   "outputs": [
    {
     "name": "stdout",
     "output_type": "stream",
     "text": [
      "(406,)\n",
      "(406,)\n",
      "(406, 2)\n"
     ]
    }
   ],
   "source": [
    "print(X.shape)\n",
    "ones_col = ones(406)\n",
    "print(ones_col.shape)\n",
    "## clean syntax for getting two column vectors to become one matrix\n",
    "X1 = np.column_stack( (X.T, ones_col.T))\n",
    "print(X1.shape)"
   ]
  },
  {
   "cell_type": "markdown",
   "metadata": {},
   "source": [
    "## 6. Plot data"
   ]
  },
  {
   "cell_type": "code",
   "execution_count": 10,
   "metadata": {},
   "outputs": [
    {
     "data": {
      "text/plain": [
       "<matplotlib.collections.PathCollection at 0x178e65155c0>"
      ]
     },
     "execution_count": 10,
     "metadata": {},
     "output_type": "execute_result"
    },
    {
     "data": {
      "image/png": "[encoded data removed]",
      "text/plain": [
       "<Figure size 432x288 with 1 Axes>"
      ]
     },
     "metadata": {
      "needs_background": "light"
     },
     "output_type": "display_data"
    }
   ],
   "source": [
    "plt.scatter(X1[:,0],HP)"
   ]
  },
  {
   "cell_type": "code",
   "execution_count": null,
   "metadata": {},
   "outputs": [],
   "source": []
  }
 ],
 "metadata": {
  "kernelspec": {
   "display_name": "Python 3",
   "language": "python",
   "name": "python3"
  },
  "language_info": {
   "codemirror_mode": {
    "name": "ipython",
    "version": 3
   },
   "file_extension": ".py",
   "mimetype": "text/x-python",
   "name": "python",
   "nbconvert_exporter": "python",
   "pygments_lexer": "ipython3",
   "version": "3.6.8"
  }
 },
 "nbformat": 4,
 "nbformat_minor": 2
}
